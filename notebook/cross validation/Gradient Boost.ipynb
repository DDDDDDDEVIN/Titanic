{
 "cells": [
  {
   "cell_type": "code",
   "execution_count": 1,
   "metadata": {},
   "outputs": [
    {
     "name": "stderr",
     "output_type": "stream",
     "text": [
      "/Users/devin/anaconda3/lib/python3.11/site-packages/pandas/core/arrays/masked.py:60: UserWarning: Pandas requires version '1.3.6' or newer of 'bottleneck' (version '1.3.5' currently installed).\n",
      "  from pandas.core import (\n"
     ]
    }
   ],
   "source": [
    "import pandas as pd\n",
    "from sklearn.ensemble import GradientBoostingClassifier\n",
    "from sklearn.model_selection import GridSearchCV\n",
    "import warnings"
   ]
  },
  {
   "cell_type": "code",
   "execution_count": 2,
   "metadata": {},
   "outputs": [],
   "source": [
    "train_X = pd.read_csv('../../data/curated/final_train_X.csv')\n",
    "val_X = pd.read_csv('../../data/curated/final_val_X.csv')\n",
    "test_X = pd.read_csv('../../data/curated/final_test_X.csv')\n",
    "train_Y = pd.read_csv('../../data/curated/train_Y.csv')\n",
    "val_Y = pd.read_csv('../../data/curated/val_Y.csv')"
   ]
  },
  {
   "cell_type": "code",
   "execution_count": 4,
   "metadata": {},
   "outputs": [],
   "source": [
    "param_grid = {\n",
    "    'learning_rate': (1e-8, 1e-6, 1e-4, 1e-2, 1e-1, 1, 10),\n",
    "    'n_estimators': (25, 50, 100, 200, 400, 800),\n",
    "    'subsample': (0.25, 0.4, 0.55, 0.7, 0.85, 1),\n",
    "    'min_samples_split': (2, 4, 8, 16, 32, 64),\n",
    "    'max_depth': (3, 6, 12, 24, 48, 96, 192, 384),\n",
    "    'max_features': (0.25, 0.4, 0.55, 0.7, 0.85, 1)\n",
    "}"
   ]
  },
  {
   "cell_type": "code",
   "execution_count": 3,
   "metadata": {},
   "outputs": [],
   "source": [
    "clf = GradientBoostingClassifier(random_state=42)"
   ]
  },
  {
   "cell_type": "code",
   "execution_count": null,
   "metadata": {},
   "outputs": [],
   "source": [
    "tuner = GridSearchCV(estimator=clf, param_grid=)"
   ]
  }
 ],
 "metadata": {
  "kernelspec": {
   "display_name": "base",
   "language": "python",
   "name": "python3"
  },
  "language_info": {
   "codemirror_mode": {
    "name": "ipython",
    "version": 3
   },
   "file_extension": ".py",
   "mimetype": "text/x-python",
   "name": "python",
   "nbconvert_exporter": "python",
   "pygments_lexer": "ipython3",
   "version": "3.11.3"
  }
 },
 "nbformat": 4,
 "nbformat_minor": 2
}
