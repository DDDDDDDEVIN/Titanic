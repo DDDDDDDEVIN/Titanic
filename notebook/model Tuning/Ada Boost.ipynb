{
 "cells": [
  {
   "cell_type": "code",
   "execution_count": 44,
   "metadata": {},
   "outputs": [],
   "source": [
    "import pandas as pd\n",
    "from sklearn.metrics import r2_score\n",
    "from sklearn.model_selection import GridSearchCV\n",
    "import warnings"
   ]
  },
  {
   "cell_type": "code",
   "execution_count": 45,
   "metadata": {},
   "outputs": [],
   "source": [
    "warnings.filterwarnings('ignore')"
   ]
  },
  {
   "cell_type": "code",
   "execution_count": 46,
   "metadata": {},
   "outputs": [],
   "source": [
    "MODEL_NAME = 'ADA'"
   ]
  },
  {
   "cell_type": "code",
   "execution_count": 47,
   "metadata": {},
   "outputs": [],
   "source": [
    "train_X = pd.read_csv('../../data/curated/final_train_X.csv')\n",
    "train_Y = pd.read_csv('../../data/curated/train_Y.csv')\n",
    "val_X = pd.read_csv('../../data/curated/final_val_X.csv')\n",
    "val_Y = pd.read_csv('../../data/curated/val_Y.csv')"
   ]
  },
  {
   "cell_type": "code",
   "execution_count": 48,
   "metadata": {},
   "outputs": [],
   "source": [
    "parameter_choices = {\n",
    "    'n_estimators': (25, 50, 100, 200, 400, 800),\n",
    "    'learning_rate': (0.0001, 0.001, 0.01, 0.1, 1, 10, 100)\n",
    "}"
   ]
  },
  {
   "cell_type": "code",
   "execution_count": 49,
   "metadata": {},
   "outputs": [],
   "source": [
    "from sklearn.ensemble import AdaBoostClassifier as clf\n",
    "import joblib\n",
    "import os\n",
    "import pickle\n",
    "\n",
    "model = clf(random_state=42)\n",
    "grid_search = GridSearchCV(estimator=model, param_grid=parameter_choices, scoring='accuracy', cv=5, verbose=3)\n",
    "path = f'../../data/model/{MODEL_NAME}_checkpoint.pkl'\n",
    "if os.path.exists(path):\n",
    "    grid_search = joblib.load(path)\n",
    "else:\n",
    "    grid_search.fit(train_X, train_Y)\n",
    "    joblib.dump(value=grid_search, filename=path)"
   ]
  },
  {
   "cell_type": "code",
   "execution_count": 50,
   "metadata": {},
   "outputs": [
    {
     "name": "stdout",
     "output_type": "stream",
     "text": [
      "AdaBoostClassifier(learning_rate=0.1, n_estimators=100, random_state=42)\n",
      "0.8075248694967005\n"
     ]
    }
   ],
   "source": [
    "print(grid_search.best_estimator_)\n",
    "print(grid_search.best_score_)"
   ]
  },
  {
   "cell_type": "code",
   "execution_count": null,
   "metadata": {},
   "outputs": [],
   "source": []
  }
 ],
 "metadata": {
  "kernelspec": {
   "display_name": "base",
   "language": "python",
   "name": "python3"
  },
  "language_info": {
   "codemirror_mode": {
    "name": "ipython",
    "version": 3
   },
   "file_extension": ".py",
   "mimetype": "text/x-python",
   "name": "python",
   "nbconvert_exporter": "python",
   "pygments_lexer": "ipython3",
   "version": "3.11.3"
  }
 },
 "nbformat": 4,
 "nbformat_minor": 2
}
