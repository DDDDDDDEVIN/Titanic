{
 "cells": [
  {
   "cell_type": "code",
   "execution_count": 1,
   "metadata": {},
   "outputs": [
    {
     "name": "stderr",
     "output_type": "stream",
     "text": [
      "/Users/devin/anaconda3/lib/python3.11/site-packages/pandas/core/arrays/masked.py:60: UserWarning: Pandas requires version '1.3.6' or newer of 'bottleneck' (version '1.3.5' currently installed).\n",
      "  from pandas.core import (\n"
     ]
    }
   ],
   "source": [
    "import pandas as pd\n",
    "from sklearn.metrics import r2_score\n",
    "from sklearn.model_selection import GridSearchCV\n",
    "import warnings\n",
    "import sys\n",
    "import json"
   ]
  },
  {
   "cell_type": "code",
   "execution_count": 2,
   "metadata": {},
   "outputs": [],
   "source": [
    "warnings.filterwarnings('ignore')"
   ]
  },
  {
   "cell_type": "code",
   "execution_count": 3,
   "metadata": {},
   "outputs": [],
   "source": [
    "sys.path.append('../../privatePackage')"
   ]
  },
  {
   "cell_type": "code",
   "execution_count": 4,
   "metadata": {},
   "outputs": [],
   "source": [
    "from DevinMengTuner import DevinMengTuner"
   ]
  },
  {
   "cell_type": "code",
   "execution_count": 5,
   "metadata": {},
   "outputs": [],
   "source": [
    "train_X = pd.read_csv('../../data/curated/final_train_X.csv')\n",
    "train_Y = pd.read_csv('../../data/curated/train_Y.csv')\n",
    "val_X = pd.read_csv('../../data/curated/final_val_X.csv')\n",
    "val_Y = pd.read_csv('../../data/curated/val_Y.csv')"
   ]
  },
  {
   "cell_type": "code",
   "execution_count": 6,
   "metadata": {},
   "outputs": [],
   "source": [
    "parameter_choices = {\n",
    "    'n_estimators': (25, 50, 100, 200),\n",
    "    'max_depth': (2, 4, 8, 16),\n",
    "    'subsample': (0.4, 0.55, 0.7, 0.85, 1),\n",
    "    'colsample_bylevel': (0.4, 0.55, 0.7, 0.85, 1),\n",
    "    'max_bin': (64, 256),\n",
    "    'reg_lambda': (0.01, 0.1, 1),\n",
    "    'learning_rate': (0.001, 0.01, 0.1, 1),\n",
    "}\n",
    "non_tunable_parameter = {\n",
    "    'random_state' : 42,\n",
    "    'verbose': False\n",
    "}"
   ]
  },
  {
   "cell_type": "code",
   "execution_count": 7,
   "metadata": {},
   "outputs": [],
   "source": [
    "from catboost import CatBoostRegressor as clf\n",
    "model = clf()"
   ]
  },
  {
   "cell_type": "code",
   "execution_count": 8,
   "metadata": {},
   "outputs": [
    {
     "name": "stdout",
     "output_type": "stream",
     "text": [
      "DevinMengTuner initialised\n",
      "Fit succeed.\n",
      "Current Parameter Combination:\n",
      "n_estimators: 25; max_depth: 2; subsample: 0.4; colsample_bylevel: 0.4; max_bin: 64; reg_lambda: 0.01; learning_rate: 0.001; \n",
      "Current Performance Metrics:\n",
      "R-Squared: 0.003736536176239147; Root Mean Squared Error: 0.4915238324308038; \n",
      "Best Performance Metrics:\n",
      "R-Squared: 0.003736536176239147; Root Mean Squared Error: 0.4915238324308038; \n",
      "Already tuned 1 out of 9600 in total\n",
      "Progress: 0.01%\n",
      "----------------------------\n"
     ]
    },
    {
     "ename": "CatBoostError",
     "evalue": "You can't change params of fitted model.",
     "output_type": "error",
     "traceback": [
      "\u001b[0;31m---------------------------------------------------------------------------\u001b[0m",
      "\u001b[0;31mCatBoostError\u001b[0m                             Traceback (most recent call last)",
      "Cell \u001b[0;32mIn[8], line 5\u001b[0m\n\u001b[1;32m      3\u001b[0m tuner\u001b[38;5;241m.\u001b[39mset_parameters(tunable_parameters_dict\u001b[38;5;241m=\u001b[39mparameter_choices, non_tunable_parameters\u001b[38;5;241m=\u001b[39mnon_tunable_parameter)\n\u001b[1;32m      4\u001b[0m tuner\u001b[38;5;241m.\u001b[39mset_data(train_X \u001b[38;5;241m=\u001b[39m train_X, train_Y \u001b[38;5;241m=\u001b[39m train_Y, test_X\u001b[38;5;241m=\u001b[39mval_X, test_Y\u001b[38;5;241m=\u001b[39mval_Y)\n\u001b[0;32m----> 5\u001b[0m tuner\u001b[38;5;241m.\u001b[39mtune()\n",
      "File \u001b[0;32m~/Documents/GitHub/Titanic/notebook/model Tuning/../../privatePackage/DevinMengTuner.py:107\u001b[0m, in \u001b[0;36mDevinMengTuner.tune\u001b[0;34m(self)\u001b[0m\n\u001b[1;32m    104\u001b[0m \u001b[38;5;28mself\u001b[39m\u001b[38;5;241m.\u001b[39m_check_checkpoint()\n\u001b[1;32m    106\u001b[0m \u001b[38;5;28;01mif\u001b[39;00m \u001b[38;5;28mself\u001b[39m\u001b[38;5;241m.\u001b[39mtuner_type \u001b[38;5;241m==\u001b[39m \u001b[38;5;124m'\u001b[39m\u001b[38;5;124mGrid\u001b[39m\u001b[38;5;124m'\u001b[39m:\n\u001b[0;32m--> 107\u001b[0m     \u001b[38;5;28mself\u001b[39m\u001b[38;5;241m.\u001b[39m_grid_tune()\n\u001b[1;32m    108\u001b[0m \u001b[38;5;28;01mif\u001b[39;00m \u001b[38;5;28mself\u001b[39m\u001b[38;5;241m.\u001b[39mtuner_type \u001b[38;5;241m==\u001b[39m \u001b[38;5;124m'\u001b[39m\u001b[38;5;124mRandom\u001b[39m\u001b[38;5;124m'\u001b[39m:\n\u001b[1;32m    109\u001b[0m     \u001b[38;5;28mself\u001b[39m\u001b[38;5;241m.\u001b[39m_random_tune()\n",
      "File \u001b[0;32m~/Documents/GitHub/Titanic/notebook/model Tuning/../../privatePackage/DevinMengTuner.py:137\u001b[0m, in \u001b[0;36mDevinMengTuner._grid_tune\u001b[0;34m(self)\u001b[0m\n\u001b[1;32m    135\u001b[0m     index \u001b[38;5;241m+\u001b[39m\u001b[38;5;241m=\u001b[39m \u001b[38;5;241m1\u001b[39m\n\u001b[1;32m    136\u001b[0m \u001b[38;5;66;03m# set current tunable params\u001b[39;00m\n\u001b[0;32m--> 137\u001b[0m \u001b[38;5;28mself\u001b[39m\u001b[38;5;241m.\u001b[39mmodel\u001b[38;5;241m.\u001b[39mset_params(\u001b[38;5;241m*\u001b[39m\u001b[38;5;241m*\u001b[39m\u001b[38;5;28mself\u001b[39m\u001b[38;5;241m.\u001b[39mcurr_param_dict)\n\u001b[1;32m    138\u001b[0m \u001b[38;5;66;03m# fit model\u001b[39;00m\n\u001b[1;32m    139\u001b[0m \u001b[38;5;28mself\u001b[39m\u001b[38;5;241m.\u001b[39mmodel\u001b[38;5;241m.\u001b[39mfit(\u001b[38;5;28mself\u001b[39m\u001b[38;5;241m.\u001b[39mtrain_X, \u001b[38;5;28mself\u001b[39m\u001b[38;5;241m.\u001b[39mtrain_Y)\n",
      "File \u001b[0;32m~/anaconda3/lib/python3.11/site-packages/catboost/core.py:3516\u001b[0m, in \u001b[0;36mCatBoost.set_params\u001b[0;34m(self, **params)\u001b[0m\n\u001b[1;32m   3507\u001b[0m \u001b[38;5;250m\u001b[39m\u001b[38;5;124;03m\"\"\"\u001b[39;00m\n\u001b[1;32m   3508\u001b[0m \u001b[38;5;124;03mSet parameters into CatBoost model.\u001b[39;00m\n\u001b[1;32m   3509\u001b[0m \n\u001b[0;32m   (...)\u001b[0m\n\u001b[1;32m   3513\u001b[0m \u001b[38;5;124;03m    List of key=value paris. Example: model.set_params(iterations=500, thread_count=2).\u001b[39;00m\n\u001b[1;32m   3514\u001b[0m \u001b[38;5;124;03m\"\"\"\u001b[39;00m\n\u001b[1;32m   3515\u001b[0m \u001b[38;5;28;01mif\u001b[39;00m \u001b[38;5;28mself\u001b[39m\u001b[38;5;241m.\u001b[39mis_fitted():\n\u001b[0;32m-> 3516\u001b[0m     \u001b[38;5;28;01mraise\u001b[39;00m CatBoostError(\u001b[38;5;124m\"\u001b[39m\u001b[38;5;124mYou can\u001b[39m\u001b[38;5;124m'\u001b[39m\u001b[38;5;124mt change params of fitted model.\u001b[39m\u001b[38;5;124m\"\u001b[39m)\n\u001b[1;32m   3517\u001b[0m \u001b[38;5;28;01mfor\u001b[39;00m key, value \u001b[38;5;129;01min\u001b[39;00m iteritems(params):\n\u001b[1;32m   3518\u001b[0m     \u001b[38;5;28mself\u001b[39m\u001b[38;5;241m.\u001b[39m_init_params[key] \u001b[38;5;241m=\u001b[39m value\n",
      "\u001b[0;31mCatBoostError\u001b[0m: You can't change params of fitted model."
     ]
    }
   ],
   "source": [
    "tuner = DevinMengTuner()\n",
    "tuner.set_model(model=model, model_type='Regression')\n",
    "tuner.set_parameters(tunable_parameters_dict=parameter_choices, non_tunable_parameters=non_tunable_parameter)\n",
    "tuner.set_data(train_X = train_X, train_Y = train_Y, test_X=val_X, test_Y=val_Y)\n",
    "tuner.tune()"
   ]
  },
  {
   "cell_type": "code",
   "execution_count": null,
   "metadata": {},
   "outputs": [],
   "source": []
  },
  {
   "cell_type": "code",
   "execution_count": null,
   "metadata": {},
   "outputs": [],
   "source": []
  }
 ],
 "metadata": {
  "kernelspec": {
   "display_name": "base",
   "language": "python",
   "name": "python3"
  },
  "language_info": {
   "codemirror_mode": {
    "name": "ipython",
    "version": 3
   },
   "file_extension": ".py",
   "mimetype": "text/x-python",
   "name": "python",
   "nbconvert_exporter": "python",
   "pygments_lexer": "ipython3",
   "version": "3.11.3"
  }
 },
 "nbformat": 4,
 "nbformat_minor": 2
}
